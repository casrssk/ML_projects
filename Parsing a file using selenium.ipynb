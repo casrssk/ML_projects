{
 "cells": [
  {
   "cell_type": "markdown",
   "metadata": {},
   "source": [
    "# parsing a file from the geneAtlas website for specified region and named gene"
   ]
  },
  {
   "cell_type": "code",
   "execution_count": 5,
   "metadata": {},
   "outputs": [],
   "source": [
    "#!/usr/bin/env python\n",
    "# coding: utf-8\n",
    "\n",
    "#import libraries\n",
    "from selenium import webdriver\n",
    "from webdriver_manager.chrome import ChromeDriverManager\n",
    "from time import sleep\n",
    "import pandas as pd\n",
    "import requests\n",
    "from urllib.request import urlopen\n"
   ]
  },
  {
   "cell_type": "code",
   "execution_count": 13,
   "metadata": {},
   "outputs": [
    {
     "name": "stderr",
     "output_type": "stream",
     "text": [
      "[WDM] - Current google-chrome version is 84.0.4147\n",
      "[WDM] - Get LATEST driver version for 84.0.4147\n",
      "[WDM] - Driver [/Users/satwantkaur/.wdm/drivers/chromedriver/mac64/84.0.4147.30/chromedriver] found in cache\n"
     ]
    },
    {
     "name": "stdout",
     "output_type": "stream",
     "text": [
      " \n"
     ]
    },
    {
     "data": {
      "text/plain": [
       "<bound method WebDriver.quit of <selenium.webdriver.chrome.webdriver.WebDriver (session=\"4df9f7305c2ae0823e44e23e58df56d5\")>>"
      ]
     },
     "execution_count": 13,
     "metadata": {},
     "output_type": "execute_result"
    }
   ],
   "source": [
    "#looks for the version of the chrome driver and installs the latest\n",
    "chromeOptions=webdriver.ChromeOptions()\n",
    "prefs = {\"plugins.always_open_pdf_externally\": True}\n",
    "chromeOptions.add_experimental_option(\"prefs\",prefs)\n",
    "driver = webdriver.Chrome(ChromeDriverManager().install(), options=chromeOptions)\n",
    "#dictionary for the name, region and the format of the table to be generated\n",
    "payload = {\"traits\": ['396'], \"esymbol\": ['FOXO3'], 'gextrawind':['50'], \"maxregion\":['109057'], \"minregion\":['108830'], \"chrom\":['6'],\"representation\": ['table'] }\n",
    "r = requests.get(\"http://geneatlas.roslin.ed.ac.uk/region/\", params = payload)\n",
    "driver.get(r.url)\n",
    "sleep(10)\n",
    "driver.execute_script(\"window.scrollTo(0, 500)\")\n",
    "hidden_submenu = driver.find_element_by_css_selector(\".dt-button.buttons-csv.buttons-html5\")\n",
    "menu = driver.find_element_by_css_selector(\".dt-button\")\n",
    "webdriver.ActionChains(driver).move_to_element(menu).click(hidden_submenu).perform()\n",
    "driver.quit"
   ]
  },
  {
   "cell_type": "code",
   "execution_count": null,
   "metadata": {},
   "outputs": [],
   "source": []
  }
 ],
 "metadata": {
  "kernelspec": {
   "display_name": "Python 3",
   "language": "python",
   "name": "python3"
  },
  "language_info": {
   "codemirror_mode": {
    "name": "ipython",
    "version": 3
   },
   "file_extension": ".py",
   "mimetype": "text/x-python",
   "name": "python",
   "nbconvert_exporter": "python",
   "pygments_lexer": "ipython3",
   "version": "3.7.3"
  }
 },
 "nbformat": 4,
 "nbformat_minor": 2
}
