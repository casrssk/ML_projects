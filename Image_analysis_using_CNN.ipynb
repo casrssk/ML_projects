{
  "nbformat": 4,
  "nbformat_minor": 0,
  "metadata": {
    "colab": {
      "name": "Image_analysis_using CNN.ipynb",
      "provenance": [],
      "collapsed_sections": []
    },
    "kernelspec": {
      "name": "python3",
      "display_name": "Python 3"
    },
    "accelerator": "GPU"
  },
  "cells": [
    {
      "cell_type": "code",
      "metadata": {
        "id": "fbe_IX6fDZNo",
        "colab_type": "code",
        "colab": {
          "base_uri": "https://localhost:8080/",
          "height": 173
        },
        "outputId": "50170c5c-acfd-4ba6-d83b-84da3ca9b2e0"
      },
      "source": [
        "# Mounting google drive\n",
        "from google.colab import drive\n",
        "drive.mount('/content/gdrive')\n",
        "# Displaying content of the drive\n",
        "!ls /content/gdrive/'My Drive'/skin-cancer-mnist-ham10000"
      ],
      "execution_count": 1,
      "outputs": [
        {
          "output_type": "stream",
          "text": [
            "Go to this URL in a browser: https://accounts.google.com/o/oauth2/auth?client_id=947318989803-6bn6qk8qdgf4n4g3pfee6491hc0brc4i.apps.googleusercontent.com&redirect_uri=urn%3aietf%3awg%3aoauth%3a2.0%3aoob&response_type=code&scope=email%20https%3a%2f%2fwww.googleapis.com%2fauth%2fdocs.test%20https%3a%2f%2fwww.googleapis.com%2fauth%2fdrive%20https%3a%2f%2fwww.googleapis.com%2fauth%2fdrive.photos.readonly%20https%3a%2f%2fwww.googleapis.com%2fauth%2fpeopleapi.readonly\n",
            "\n",
            "Enter your authorization code:\n",
            "··········\n",
            "Mounted at /content/gdrive\n",
            "excercise.ipynb\t\t    HAM10000_images_part_2\timageArray.npy\n",
            "HAM10000_images_part_1\t    HAM10000_images_part_2.zip\tmnist_cnn.ipynb\n",
            "HAM10000_images_part_1.zip  HAM10000_metadata.csv\n"
          ],
          "name": "stdout"
        }
      ]
    },
    {
      "cell_type": "code",
      "metadata": {
        "id": "VstgBrWWD51X",
        "colab_type": "code",
        "colab": {}
      },
      "source": [
        "# Importing libraries\n",
        "import pandas as pd\n",
        "import numpy as np\n",
        "import matplotlib.pyplot as plt\n",
        "%matplotlib inline\n",
        "from keras.preprocessing.image import image, ImageDataGenerator, array_to_img, img_to_array, load_img\n",
        "from PIL import Image\n",
        "import os\n",
        "import glob\n",
        "\n",
        "# Sklearn\n",
        "from sklearn.model_selection import train_test_split\n",
        "from sklearn.metrics import balanced_accuracy_score\n",
        "\n",
        "# Keras\n",
        "import keras\n",
        "from keras.models import Sequential\n",
        "from keras.layers import Dense, Dropout, Flatten, Reshape, Conv2D, MaxPooling2D, BatchNormalization\n",
        "from keras import regularizers\n",
        "from keras.layers.advanced_activations import LeakyReLU\n",
        "from keras.optimizers import Adam\n"
      ],
      "execution_count": null,
      "outputs": []
    },
    {
      "cell_type": "code",
      "metadata": {
        "id": "KGitgaG3D5xx",
        "colab_type": "code",
        "colab": {}
      },
      "source": [
        "# Loading .csv file\n",
        "data = pd.read_csv('/content/gdrive/My Drive/skin-cancer-mnist-ham10000/HAM10000_metadata.csv')\n",
        "# Get names of columns and first rows of Dataframe\n",
        "data.head()"
      ],
      "execution_count": null,
      "outputs": []
    },
    {
      "cell_type": "code",
      "metadata": {
        "id": "gXhQKyNrD5s3",
        "colab_type": "code",
        "colab": {}
      },
      "source": [
        "# Visualizing the distribution of various cell types\n",
        "fig,ax1 =plt.subplots(1,1,figsize =(10,5))\n",
        "data[\"dx\"].value_counts().plot(kind=\"bar\",ax = ax1)\n",
        "plt.xticks(rotation='horizontal')\n",
        "plt.ylabel('Frequency')\n",
        "plt.xlabel('Diagnosis')"
      ],
      "execution_count": null,
      "outputs": []
    },
    {
      "cell_type": "code",
      "metadata": {
        "id": "7lRi2stHD5pV",
        "colab_type": "code",
        "colab": {}
      },
      "source": [
        "# Visalizing the distribution of the localization of various cell types.\n",
        "data[\"localization\"].value_counts().plot(kind=\"bar\")\n",
        "plt.ylabel('Frequency')\n",
        "plt.xlabel('Localization')"
      ],
      "execution_count": null,
      "outputs": []
    },
    {
      "cell_type": "code",
      "metadata": {
        "id": "0A9vIRn-D5aI",
        "colab_type": "code",
        "colab": {}
      },
      "source": [
        "# Visualizing gender-wise distribution\n",
        "data[\"sex\"].value_counts().plot(kind=\"bar\")\n",
        "plt.xticks(rotation='horizontal')\n",
        "plt.ylabel('Frequency')\n",
        "plt.xlabel('Gender')"
      ],
      "execution_count": null,
      "outputs": []
    },
    {
      "cell_type": "code",
      "metadata": {
        "id": "6IcFgjHWEi4u",
        "colab_type": "code",
        "colab": {}
      },
      "source": [
        "#Creating a dictionary of image id and image location\n",
        "folders = glob.glob('/content/gdrive/My Drive/skin-cancer-mnist-ham10000/*/*.jpg')\n",
        "image_path = {}\n",
        "img_id =[]\n",
        "img_loc=[]\n",
        "img_rows = 28\n",
        "img_cols = 28\n",
        "channels = 3\n",
        "# Size of the noise vector, used as input to the Generator\n",
        "z_dim = 100\n",
        "\n",
        "# input_dims = (int(600/8), int(450/8))\n",
        "input_dims = (28, 28)\n",
        "# Input image dimensions\n",
        "img_shape = input_dims + (3,)\n",
        "for name in folders:\n",
        "  img_id.append(os.path.splitext(os.path.basename(name))[0])\n",
        "  img_loc.append(name)\n",
        "image_path = dict(zip(img_id, img_loc))\n",
        "data[\"path\"] = data[\"image_id\"].map(image_path) # importing image path into the dataframe\n",
        "#importing images in the form of an array and resizing\n",
        "data['images'] = data['path'].map(lambda x: np.asarray(Image.open(x).resize(input_dims))) \n",
        "#print(image_path)\n",
        "#data.to_csv(\"/content/gdrive/My Drive/img.csv\")"
      ],
      "execution_count": null,
      "outputs": []
    },
    {
      "cell_type": "code",
      "metadata": {
        "id": "49TOyTrmEuJf",
        "colab_type": "code",
        "colab": {}
      },
      "source": [
        "# visualizing one image from every celltype before and after resizing to decide the approprite downsampling\n",
        "cell_type = data.groupby([\"dx\"]).head(1)\n",
        "img_ids = list(cell_type[\"image_id\"])\n",
        "dx_type = list(cell_type[\"dx\"])\n",
        "folders = glob.glob('/content/gdrive/My Drive/skin-cancer-mnist-ham10000/*/*.jpg')\n",
        "#input_dims = (120,98)\n",
        "for name in folders:\n",
        "  file_name =os.path.basename(name).strip(\".jpg\")\n",
        "  if file_name in img_ids:\n",
        "    i = img_ids.index(file_name)\n",
        "    t = dx_type[i]\n",
        "    img3 = image.load_img(name)\n",
        "    s2 = input_dims #Downsample by 1/10\n",
        "    img_resized = img3.resize(s2, Image.ANTIALIAS)\n",
        "   \n",
        "    plt.figure()\n",
        "    plt.title(str(t) + \" original\")\n",
        "    plt.imshow(img3)\n",
        "    plt.figure()\n",
        "    plt.title(str(t) + \" downsample to 10% of original\")\n",
        "    plt.imshow(img_resized)  "
      ],
      "execution_count": null,
      "outputs": []
    },
    {
      "cell_type": "code",
      "metadata": {
        "id": "u--phzzlE8ox",
        "colab_type": "code",
        "colab": {}
      },
      "source": [
        "# Labels preprocessing of the categorical data\n",
        "import numpy as np\n",
        "from sklearn.preprocessing import LabelEncoder \n",
        "\n",
        "#returns the categorical label given the column label and number\n",
        "def humanIndex(columnLabel,n):\n",
        "  print(columnLabel.inverse_transform([n]))\n",
        "\n",
        "# 'dx' column label encoding\n",
        "dx = LabelEncoder()\n",
        "dx.fit(data['dx'])\n",
        "data['dx'] = dx.transform(data['dx'])\n",
        "dx_i = list(np.arange(0,max(data['dx'])+1,1))\n",
        "print('')\n",
        "print('Column \"dx\" labels:')\n",
        "print('')\n",
        "print(dx_i)\n",
        "print(list(dx.classes_))\n",
        "\n",
        "# 'dx_type' column label encoding\n",
        "dx_type = LabelEncoder()\n",
        "dx_type.fit(data['dx_type'])\n",
        "data['dx_type'] = dx_type.transform(data['dx_type'])\n",
        "dx_type_i = list(np.arange(0,max(data['dx_type'])+1,1))\n",
        "print('')\n",
        "print('Column \"dx_type\" labels:')\n",
        "print('')\n",
        "print(dx_type_i)\n",
        "print(list(dx_type.classes_))\n",
        "\n",
        "# 'sex' column label encoding\n",
        "sex = LabelEncoder()\n",
        "sex.fit(data['sex'])\n",
        "data['sex'] = sex.transform(data['sex'])\n",
        "sex_i = list(np.arange(0,max(data['sex'])+1,1))\n",
        "print('')\n",
        "print('Column \"sex\" labels:')\n",
        "print('')\n",
        "print(sex_i)\n",
        "print(list(sex.classes_))\n",
        "\n",
        "# 'localization' column label encoding\n",
        "localization = LabelEncoder()\n",
        "localization.fit(data['localization'])\n",
        "data['localization'] = localization.transform(data['localization'])\n",
        "localization_i = list(np.arange(0,max(data['localization'])+1,1))\n",
        "print('')\n",
        "print('Column \"localization\" labels:')\n",
        "print('')\n",
        "print(localization_i)\n",
        "print(list(localization.classes_))\n",
        "print('')\n",
        "\n",
        "humanIndex(dx,5)"
      ],
      "execution_count": null,
      "outputs": []
    },
    {
      "cell_type": "code",
      "metadata": {
        "id": "lnKWqtXrFA-o",
        "colab_type": "code",
        "colab": {}
      },
      "source": [
        "# Sorting data into Training (60%), Test (30%), and Validation (10%) sets\n",
        "data = data.sample(frac=1)\n",
        "X = np.asarray(data['images'].tolist()).reshape((data.shape[0],)+input_shape)\n",
        "y = data[\"dx\"]\n",
        "\n",
        "X_train, X_test, y_train, y_test = train_test_split(X, y, test_size = 0.3)\n",
        "X_train, X_val, y_train, y_val = train_test_split(X_train, y_train, test_size = 0.143)\n",
        "# Domain Randomization using mini-batch generator\n",
        "domain_randomization = ImageDataGenerator(rotation_range=8, \n",
        "                               width_shift_range=0.08, \n",
        "                               shear_range=0.3, \n",
        "                               height_shift_range=0.08, \n",
        "                               zoom_range=0.08)\n",
        "\n",
        "# convert class vectors to binary class matrices\n",
        "y_train = keras.utils.to_categorical(y_train, num_classes=7) \n",
        "y_val = keras.utils.to_categorical(y_val, num_classes=7)\n",
        "y_test = keras.utils.to_categorical(y_test, num_classes=7)\n",
        "\n",
        "X_train = X_train.astype('float32')\n",
        "X_val = X_val.astype('float32')\n",
        "X_test = X_test.astype('float32')\n",
        "X_train /= 255\n",
        "X_val /= 255\n",
        "X_test /= 255\n",
        "print('X_train shape:', X_train.shape)\n",
        "print('X_val shape:', X_val.shape)\n",
        "print('X_test shape:', X_test.shape)\n",
        "print(X_train.shape[0], 'train samples')\n",
        "print(X_val.shape[0], 'validation samples')\n",
        "print(X_test.shape[0], 'test samples')\n",
        "print(y_val.shape[0], 'validation samples')"
      ],
      "execution_count": null,
      "outputs": []
    },
    {
      "cell_type": "code",
      "metadata": {
        "id": "B-dvI4egFML_",
        "colab_type": "code",
        "colab": {}
      },
      "source": [
        "# Task 2: Building CNN architecture\n",
        "batch_size = 128\n",
        "epochs = 50\n",
        "steps = 100\n",
        "num_classes = 7\n",
        "learn_rate = 0.0001\n",
        "\n",
        "## CNN\n",
        "model0 = Sequential()\n",
        "\n",
        "# Layer 1\n",
        "model0.add(Conv2D(32, \n",
        "                 kernel_size=(3, 3),\n",
        "                 strides=1,\n",
        "                 padding='same',\n",
        "                 dilation_rate=1,\n",
        "                 activation='relu',\n",
        "                 input_shape=input_shape))\n",
        "model0.add(BatchNormalization())\n",
        "model0.add(MaxPooling2D(pool_size=(2, 2)))\n",
        "\n",
        "# Layer 2\n",
        "model0.add(Conv2D(64, (3, 3), activation='relu'))\n",
        "model0.add(BatchNormalization())\n",
        "model0.add(MaxPooling2D(pool_size=(2, 2)))\n",
        "\n",
        "model0.add(Dropout(0.25))\n",
        "\n",
        "# # Layer 3\n",
        "# model0.add(Conv2D(64, (3,3),  activation='relu'))\n",
        "# model0.add(BatchNormalization())\n",
        "# model0.add(MaxPooling2D(pool_size=(2,2)))\n",
        "\n",
        "\n",
        "model0.add(Flatten())\n",
        "model0.add(Dense(128, activation='relu'))\n",
        "model0.add(Dropout(0.5))\n",
        "model0.add(Dense(num_classes, activation='softmax')) #output layer is dense layer of 7 nodes as there are 7 classes\n",
        "\n",
        "model0.compile(loss=keras.losses.categorical_crossentropy,\n",
        "              optimizer=keras.optimizers.Adam(lr=learn_rate),\n",
        "              metrics=['accuracy'])\n",
        "print(model0.summary())\n",
        "\n",
        "history = model0.fit_generator(datagen.flow(X_train, y_train, batch_size=batch_size),\n",
        "                    steps_per_epoch=steps , epochs=epochs,verbose=1,validation_data=(X_test, y_test))\n",
        "\n",
        "\n",
        "score = model0.evaluate(X_test, y_test, verbose=0)\n",
        "print(history.history.keys())\n",
        "print('Test loss:', score[0])\n",
        "print('Test accuracy:', score[1])"
      ],
      "execution_count": null,
      "outputs": []
    },
    {
      "cell_type": "code",
      "metadata": {
        "id": "L3RiC-OkGYfS",
        "colab_type": "code",
        "colab": {}
      },
      "source": [
        "# Making predictions with trained model\n",
        "y_pred = model0.predict(X_test)\n",
        "y_t1 = np.argmax(y_test, axis=1)\n",
        "y_p1 = np.argmax(y_pred, axis=1)\n",
        "\n",
        "# Balanced accuracy of test set predictions\n",
        "balanced_accuracy_score(y_t1, y_p1)"
      ],
      "execution_count": null,
      "outputs": []
    },
    {
      "cell_type": "code",
      "metadata": {
        "id": "Zy6ySTsvGZbi",
        "colab_type": "code",
        "colab": {}
      },
      "source": [
        "# summarize history for accuracy\n",
        "plt.plot(history.history['acc'])\n",
        "plt.plot(history.history['val_acc'])\n",
        "plt.title('model accuracy')\n",
        "plt.ylabel('accuracy')\n",
        "plt.xlabel('epoch')\n",
        "plt.legend(['train', 'test'], loc='upper left')\n",
        "plt.show()"
      ],
      "execution_count": null,
      "outputs": []
    },
    {
      "cell_type": "code",
      "metadata": {
        "id": "aaAfa7c2Gcmn",
        "colab_type": "code",
        "colab": {}
      },
      "source": [
        "# summarize history for loss\n",
        "plt.plot(history.history['loss'])\n",
        "plt.plot(history.history['val_loss'])\n",
        "plt.title('model loss')\n",
        "plt.ylabel('loss')\n",
        "plt.xlabel('epoch')\n",
        "plt.legend(['train', 'test'], loc='upper left')\n",
        "plt.show()"
      ],
      "execution_count": null,
      "outputs": []
    },
    {
      "cell_type": "code",
      "metadata": {
        "id": "MzeuhGS-Ge9p",
        "colab_type": "code",
        "colab": {}
      },
      "source": [
        ""
      ],
      "execution_count": null,
      "outputs": []
    }
  ]
}